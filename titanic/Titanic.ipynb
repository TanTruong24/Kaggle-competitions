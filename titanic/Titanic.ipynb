{
  "nbformat": 4,
  "nbformat_minor": 0,
  "metadata": {
    "colab": {
      "name": "Titanic.ipynb",
      "provenance": [],
      "collapsed_sections": [
        "UBAFqymxcKe0",
        "qrsfCVBl6kdh",
        "ILa0MJot7XtV"
      ],
      "authorship_tag": "ABX9TyMkAZTVs8Mw8kak1YcCA/Xg",
      "include_colab_link": true
    },
    "kernelspec": {
      "name": "python3",
      "display_name": "Python 3"
    },
    "language_info": {
      "name": "python"
    }
  },
  "cells": [
    {
      "cell_type": "markdown",
      "metadata": {
        "id": "view-in-github",
        "colab_type": "text"
      },
      "source": [
        "<a href=\"https://colab.research.google.com/github/TanTruong24/Kaggle-competitions/blob/main/titanic/Titanic.ipynb\" target=\"_parent\"><img src=\"https://colab.research.google.com/assets/colab-badge.svg\" alt=\"Open In Colab\"/></a>"
      ]
    },
    {
      "cell_type": "code",
      "metadata": {
        "colab": {
          "base_uri": "https://localhost:8080/"
        },
        "id": "0z7OEsdwbAYs",
        "outputId": "35032f52-2c94-4522-b4b8-2833dc8db91a"
      },
      "source": [
        "!gdown --id 1dmwhC5kRjwG4Sz8oGQdzSxMMG-CDAiAQ\n",
        "!unzip data_titanic.zip"
      ],
      "execution_count": null,
      "outputs": [
        {
          "output_type": "stream",
          "text": [
            "Downloading...\n",
            "From: https://drive.google.com/uc?id=1dmwhC5kRjwG4Sz8oGQdzSxMMG-CDAiAQ\n",
            "To: /content/data_titanic.zip\n",
            "\r  0% 0.00/34.3k [00:00<?, ?B/s]\r100% 34.3k/34.3k [00:00<00:00, 13.2MB/s]\n",
            "Archive:  data_titanic.zip\n",
            "  inflating: detail.csv              \n",
            "  inflating: gender_submission.csv   \n",
            "  inflating: test.csv                \n",
            "  inflating: train.csv               \n"
          ],
          "name": "stdout"
        }
      ]
    },
    {
      "cell_type": "markdown",
      "metadata": {
        "id": "ViJTRcs_cIMB"
      },
      "source": [
        "#libs"
      ]
    },
    {
      "cell_type": "code",
      "metadata": {
        "id": "kUqPUUbrby1E"
      },
      "source": [
        "import pandas as pd\n",
        "import matplotlib.pyplot as plt\n",
        "import math\n",
        "from sklearn.preprocessing import StandardScaler\n",
        "from sklearn.naive_bayes import GaussianNB\n",
        "from sklearn.model_selection import train_test_split\n",
        "from sklearn import metrics\n",
        "import numpy as np\n",
        "import seaborn as sns"
      ],
      "execution_count": null,
      "outputs": []
    },
    {
      "cell_type": "markdown",
      "metadata": {
        "id": "UBAFqymxcKe0"
      },
      "source": [
        "#training set"
      ]
    },
    {
      "cell_type": "markdown",
      "metadata": {
        "id": "6uJhGHCFmmWn"
      },
      "source": [
        "**survival**: chứa các dự đoán nhị phân của bạn: 1 cho người sống sót, 0 cho người đã chết"
      ]
    },
    {
      "cell_type": "code",
      "metadata": {
        "colab": {
          "base_uri": "https://localhost:8080/"
        },
        "id": "wayzb-TagQ-Y",
        "outputId": "321f2d57-09f7-4509-cd01-24ada0764a8a"
      },
      "source": [
        "detail = pd.read_csv(\"/content/detail.csv\")\n",
        "detail"
      ],
      "execution_count": null,
      "outputs": [
        {
          "output_type": "execute_result",
          "data": {
            "text/html": [
              "<div>\n",
              "<style scoped>\n",
              "    .dataframe tbody tr th:only-of-type {\n",
              "        vertical-align: middle;\n",
              "    }\n",
              "\n",
              "    .dataframe tbody tr th {\n",
              "        vertical-align: top;\n",
              "    }\n",
              "\n",
              "    .dataframe thead th {\n",
              "        text-align: right;\n",
              "    }\n",
              "</style>\n",
              "<table border=\"1\" class=\"dataframe\">\n",
              "  <thead>\n",
              "    <tr style=\"text-align: right;\">\n",
              "      <th></th>\n",
              "      <th>Unnamed: 0</th>\n",
              "      <th>variable</th>\n",
              "      <th>definition</th>\n",
              "      <th>key</th>\n",
              "    </tr>\n",
              "  </thead>\n",
              "  <tbody>\n",
              "    <tr>\n",
              "      <th>0</th>\n",
              "      <td>0</td>\n",
              "      <td>survival</td>\n",
              "      <td>survival</td>\n",
              "      <td>0 = No, 1 = Yes</td>\n",
              "    </tr>\n",
              "    <tr>\n",
              "      <th>1</th>\n",
              "      <td>1</td>\n",
              "      <td>pclass</td>\n",
              "      <td>pclass</td>\n",
              "      <td>1 = 1st, 2 = 2nd, 3 = 3rd</td>\n",
              "    </tr>\n",
              "    <tr>\n",
              "      <th>2</th>\n",
              "      <td>2</td>\n",
              "      <td>sex</td>\n",
              "      <td>sex</td>\n",
              "      <td>NaN</td>\n",
              "    </tr>\n",
              "    <tr>\n",
              "      <th>3</th>\n",
              "      <td>3</td>\n",
              "      <td>Age</td>\n",
              "      <td>Age in years</td>\n",
              "      <td></td>\n",
              "    </tr>\n",
              "    <tr>\n",
              "      <th>4</th>\n",
              "      <td>4</td>\n",
              "      <td>sibsp</td>\n",
              "      <td># of siblings / spouses aboard the Titanic</td>\n",
              "      <td></td>\n",
              "    </tr>\n",
              "    <tr>\n",
              "      <th>5</th>\n",
              "      <td>5</td>\n",
              "      <td>parch</td>\n",
              "      <td># of parents / children aboard the Titanic</td>\n",
              "      <td></td>\n",
              "    </tr>\n",
              "    <tr>\n",
              "      <th>6</th>\n",
              "      <td>6</td>\n",
              "      <td>ticket</td>\n",
              "      <td>Ticket number</td>\n",
              "      <td></td>\n",
              "    </tr>\n",
              "    <tr>\n",
              "      <th>7</th>\n",
              "      <td>7</td>\n",
              "      <td>fare</td>\n",
              "      <td>Passenger fare</td>\n",
              "      <td></td>\n",
              "    </tr>\n",
              "    <tr>\n",
              "      <th>8</th>\n",
              "      <td>8</td>\n",
              "      <td>cabin</td>\n",
              "      <td>Cabin number</td>\n",
              "      <td></td>\n",
              "    </tr>\n",
              "    <tr>\n",
              "      <th>9</th>\n",
              "      <td>9</td>\n",
              "      <td>embarked</td>\n",
              "      <td>Port of Embarkation</td>\n",
              "      <td>C = Cherbourg, Q = Queenstown, S = Southampton</td>\n",
              "    </tr>\n",
              "  </tbody>\n",
              "</table>\n",
              "</div>"
            ],
            "text/plain": [
              "   Unnamed: 0  ...                                             key\n",
              "0           0  ...                                 0 = No, 1 = Yes\n",
              "1           1  ...                       1 = 1st, 2 = 2nd, 3 = 3rd\n",
              "2           2  ...                                             NaN\n",
              "3           3  ...                                                \n",
              "4           4  ...                                                \n",
              "5           5  ...                                                \n",
              "6           6  ...                                                \n",
              "7           7  ...                                                \n",
              "8           8  ...                                                \n",
              "9           9  ...  C = Cherbourg, Q = Queenstown, S = Southampton\n",
              "\n",
              "[10 rows x 4 columns]"
            ]
          },
          "metadata": {
            "tags": []
          },
          "execution_count": 6
        }
      ]
    },
    {
      "cell_type": "code",
      "metadata": {
        "colab": {
          "base_uri": "https://localhost:8080/"
        },
        "id": "EOXLwjAAcHaa",
        "outputId": "db472a70-325b-486d-b152-0c236f4ea483"
      },
      "source": [
        "d_train = pd.read_csv(\"/content/train.csv\")\n",
        "print (len(d_train))\n",
        "d_train.head()"
      ],
      "execution_count": null,
      "outputs": [
        {
          "output_type": "stream",
          "text": [
            "891\n"
          ],
          "name": "stdout"
        },
        {
          "output_type": "execute_result",
          "data": {
            "text/html": [
              "<div>\n",
              "<style scoped>\n",
              "    .dataframe tbody tr th:only-of-type {\n",
              "        vertical-align: middle;\n",
              "    }\n",
              "\n",
              "    .dataframe tbody tr th {\n",
              "        vertical-align: top;\n",
              "    }\n",
              "\n",
              "    .dataframe thead th {\n",
              "        text-align: right;\n",
              "    }\n",
              "</style>\n",
              "<table border=\"1\" class=\"dataframe\">\n",
              "  <thead>\n",
              "    <tr style=\"text-align: right;\">\n",
              "      <th></th>\n",
              "      <th>PassengerId</th>\n",
              "      <th>Survived</th>\n",
              "      <th>Pclass</th>\n",
              "      <th>Name</th>\n",
              "      <th>Sex</th>\n",
              "      <th>Age</th>\n",
              "      <th>SibSp</th>\n",
              "      <th>Parch</th>\n",
              "      <th>Ticket</th>\n",
              "      <th>Fare</th>\n",
              "      <th>Cabin</th>\n",
              "      <th>Embarked</th>\n",
              "    </tr>\n",
              "  </thead>\n",
              "  <tbody>\n",
              "    <tr>\n",
              "      <th>0</th>\n",
              "      <td>1</td>\n",
              "      <td>0</td>\n",
              "      <td>3</td>\n",
              "      <td>Braund, Mr. Owen Harris</td>\n",
              "      <td>male</td>\n",
              "      <td>22.0</td>\n",
              "      <td>1</td>\n",
              "      <td>0</td>\n",
              "      <td>A/5 21171</td>\n",
              "      <td>7.2500</td>\n",
              "      <td>NaN</td>\n",
              "      <td>S</td>\n",
              "    </tr>\n",
              "    <tr>\n",
              "      <th>1</th>\n",
              "      <td>2</td>\n",
              "      <td>1</td>\n",
              "      <td>1</td>\n",
              "      <td>Cumings, Mrs. John Bradley (Florence Briggs Th...</td>\n",
              "      <td>female</td>\n",
              "      <td>38.0</td>\n",
              "      <td>1</td>\n",
              "      <td>0</td>\n",
              "      <td>PC 17599</td>\n",
              "      <td>71.2833</td>\n",
              "      <td>C85</td>\n",
              "      <td>C</td>\n",
              "    </tr>\n",
              "    <tr>\n",
              "      <th>2</th>\n",
              "      <td>3</td>\n",
              "      <td>1</td>\n",
              "      <td>3</td>\n",
              "      <td>Heikkinen, Miss. Laina</td>\n",
              "      <td>female</td>\n",
              "      <td>26.0</td>\n",
              "      <td>0</td>\n",
              "      <td>0</td>\n",
              "      <td>STON/O2. 3101282</td>\n",
              "      <td>7.9250</td>\n",
              "      <td>NaN</td>\n",
              "      <td>S</td>\n",
              "    </tr>\n",
              "    <tr>\n",
              "      <th>3</th>\n",
              "      <td>4</td>\n",
              "      <td>1</td>\n",
              "      <td>1</td>\n",
              "      <td>Futrelle, Mrs. Jacques Heath (Lily May Peel)</td>\n",
              "      <td>female</td>\n",
              "      <td>35.0</td>\n",
              "      <td>1</td>\n",
              "      <td>0</td>\n",
              "      <td>113803</td>\n",
              "      <td>53.1000</td>\n",
              "      <td>C123</td>\n",
              "      <td>S</td>\n",
              "    </tr>\n",
              "    <tr>\n",
              "      <th>4</th>\n",
              "      <td>5</td>\n",
              "      <td>0</td>\n",
              "      <td>3</td>\n",
              "      <td>Allen, Mr. William Henry</td>\n",
              "      <td>male</td>\n",
              "      <td>35.0</td>\n",
              "      <td>0</td>\n",
              "      <td>0</td>\n",
              "      <td>373450</td>\n",
              "      <td>8.0500</td>\n",
              "      <td>NaN</td>\n",
              "      <td>S</td>\n",
              "    </tr>\n",
              "  </tbody>\n",
              "</table>\n",
              "</div>"
            ],
            "text/plain": [
              "   PassengerId  Survived  Pclass  ...     Fare Cabin  Embarked\n",
              "0            1         0       3  ...   7.2500   NaN         S\n",
              "1            2         1       1  ...  71.2833   C85         C\n",
              "2            3         1       3  ...   7.9250   NaN         S\n",
              "3            4         1       1  ...  53.1000  C123         S\n",
              "4            5         0       3  ...   8.0500   NaN         S\n",
              "\n",
              "[5 rows x 12 columns]"
            ]
          },
          "metadata": {
            "tags": []
          },
          "execution_count": 7
        }
      ]
    },
    {
      "cell_type": "markdown",
      "metadata": {
        "id": "qrsfCVBl6kdh"
      },
      "source": [
        "##preprocessing data"
      ]
    },
    {
      "cell_type": "code",
      "metadata": {
        "id": "Q-XEu3wVyQcx"
      },
      "source": [
        "d_train.replace('?', np.nan, inplace= True)\n",
        "d_train = d_train.astype({\"Age\": np.float64, \"Fare\": np.float64})"
      ],
      "execution_count": null,
      "outputs": []
    },
    {
      "cell_type": "code",
      "metadata": {
        "colab": {
          "base_uri": "https://localhost:8080/"
        },
        "id": "FSMS2oq6ZfMf",
        "outputId": "04296f91-b74b-4834-fed5-1a8704b5bbb4"
      },
      "source": [
        "fig, axs = plt.subplots(ncols=5, figsize=(32,7))\n",
        "sns.violinplot(x=\"Survived\", y=\"Age\", hue=\"Sex\", data=d_train, ax=axs[0])\n",
        "sns.pointplot(x=\"SibSp\", y=\"Survived\", hue=\"Sex\", data=d_train, ax=axs[1])\n",
        "sns.pointplot(x=\"Parch\", y=\"Survived\", hue=\"Sex\", data=d_train, ax=axs[2])\n",
        "sns.pointplot(x=\"Pclass\", y=\"Survived\", hue=\"Sex\", data=d_train, ax=axs[3])\n",
        "sns.violinplot(x=\"Survived\", y=\"Fare\", hue=\"Sex\", data=d_train, ax=axs[4])"
      ],
      "execution_count": null,
      "outputs": [
        {
          "output_type": "execute_result",
          "data": {
            "text/plain": [
              "<matplotlib.axes._subplots.AxesSubplot at 0x7f24198cd750>"
            ]
          },
          "metadata": {
            "tags": []
          },
          "execution_count": 9
        },
        {
          "output_type": "display_data",
          "data": {
            "image/png": "[encoded data removed]",
            "text/plain": [
              "<Figure size 2304x504 with 5 Axes>"
            ]
          },
          "metadata": {
            "tags": [],
            "needs_background": "light"
          }
        }
      ]
    },
    {
      "cell_type": "code",
      "metadata": {
        "colab": {
          "base_uri": "https://localhost:8080/"
        },
        "id": "gVlXd67Dg0t-",
        "outputId": "9063c9ac-c4e4-47f2-f7b2-27c91e967d49"
      },
      "source": [
        "d_train.replace({'male': 1, 'female': 0}, inplace=True)\n",
        "d_train.head()"
      ],
      "execution_count": null,
      "outputs": [
        {
          "output_type": "execute_result",
          "data": {
            "text/html": [
              "<div>\n",
              "<style scoped>\n",
              "    .dataframe tbody tr th:only-of-type {\n",
              "        vertical-align: middle;\n",
              "    }\n",
              "\n",
              "    .dataframe tbody tr th {\n",
              "        vertical-align: top;\n",
              "    }\n",
              "\n",
              "    .dataframe thead th {\n",
              "        text-align: right;\n",
              "    }\n",
              "</style>\n",
              "<table border=\"1\" class=\"dataframe\">\n",
              "  <thead>\n",
              "    <tr style=\"text-align: right;\">\n",
              "      <th></th>\n",
              "      <th>PassengerId</th>\n",
              "      <th>Survived</th>\n",
              "      <th>Pclass</th>\n",
              "      <th>Name</th>\n",
              "      <th>Sex</th>\n",
              "      <th>Age</th>\n",
              "      <th>SibSp</th>\n",
              "      <th>Parch</th>\n",
              "      <th>Ticket</th>\n",
              "      <th>Fare</th>\n",
              "      <th>Cabin</th>\n",
              "      <th>Embarked</th>\n",
              "    </tr>\n",
              "  </thead>\n",
              "  <tbody>\n",
              "    <tr>\n",
              "      <th>0</th>\n",
              "      <td>1</td>\n",
              "      <td>0</td>\n",
              "      <td>3</td>\n",
              "      <td>Braund, Mr. Owen Harris</td>\n",
              "      <td>1</td>\n",
              "      <td>22.0</td>\n",
              "      <td>1</td>\n",
              "      <td>0</td>\n",
              "      <td>A/5 21171</td>\n",
              "      <td>7.2500</td>\n",
              "      <td>NaN</td>\n",
              "      <td>S</td>\n",
              "    </tr>\n",
              "    <tr>\n",
              "      <th>1</th>\n",
              "      <td>2</td>\n",
              "      <td>1</td>\n",
              "      <td>1</td>\n",
              "      <td>Cumings, Mrs. John Bradley (Florence Briggs Th...</td>\n",
              "      <td>0</td>\n",
              "      <td>38.0</td>\n",
              "      <td>1</td>\n",
              "      <td>0</td>\n",
              "      <td>PC 17599</td>\n",
              "      <td>71.2833</td>\n",
              "      <td>C85</td>\n",
              "      <td>C</td>\n",
              "    </tr>\n",
              "    <tr>\n",
              "      <th>2</th>\n",
              "      <td>3</td>\n",
              "      <td>1</td>\n",
              "      <td>3</td>\n",
              "      <td>Heikkinen, Miss. Laina</td>\n",
              "      <td>0</td>\n",
              "      <td>26.0</td>\n",
              "      <td>0</td>\n",
              "      <td>0</td>\n",
              "      <td>STON/O2. 3101282</td>\n",
              "      <td>7.9250</td>\n",
              "      <td>NaN</td>\n",
              "      <td>S</td>\n",
              "    </tr>\n",
              "    <tr>\n",
              "      <th>3</th>\n",
              "      <td>4</td>\n",
              "      <td>1</td>\n",
              "      <td>1</td>\n",
              "      <td>Futrelle, Mrs. Jacques Heath (Lily May Peel)</td>\n",
              "      <td>0</td>\n",
              "      <td>35.0</td>\n",
              "      <td>1</td>\n",
              "      <td>0</td>\n",
              "      <td>113803</td>\n",
              "      <td>53.1000</td>\n",
              "      <td>C123</td>\n",
              "      <td>S</td>\n",
              "    </tr>\n",
              "    <tr>\n",
              "      <th>4</th>\n",
              "      <td>5</td>\n",
              "      <td>0</td>\n",
              "      <td>3</td>\n",
              "      <td>Allen, Mr. William Henry</td>\n",
              "      <td>1</td>\n",
              "      <td>35.0</td>\n",
              "      <td>0</td>\n",
              "      <td>0</td>\n",
              "      <td>373450</td>\n",
              "      <td>8.0500</td>\n",
              "      <td>NaN</td>\n",
              "      <td>S</td>\n",
              "    </tr>\n",
              "  </tbody>\n",
              "</table>\n",
              "</div>"
            ],
            "text/plain": [
              "   PassengerId  Survived  Pclass  ...     Fare  Cabin  Embarked\n",
              "0            1         0       3  ...   7.2500    NaN         S\n",
              "1            2         1       1  ...  71.2833    C85         C\n",
              "2            3         1       3  ...   7.9250    NaN         S\n",
              "3            4         1       1  ...  53.1000   C123         S\n",
              "4            5         0       3  ...   8.0500    NaN         S\n",
              "\n",
              "[5 rows x 12 columns]"
            ]
          },
          "metadata": {
            "tags": []
          },
          "execution_count": 10
        }
      ]
    },
    {
      "cell_type": "code",
      "metadata": {
        "colab": {
          "base_uri": "https://localhost:8080/"
        },
        "id": "jdiWtD6DthNj",
        "outputId": "950e945b-0f46-497f-c702-fb3e1cc1a7a0"
      },
      "source": [
        "d_train.corr().abs()[[\"Survived\"]]"
      ],
      "execution_count": null,
      "outputs": [
        {
          "output_type": "execute_result",
          "data": {
            "text/html": [
              "<div>\n",
              "<style scoped>\n",
              "    .dataframe tbody tr th:only-of-type {\n",
              "        vertical-align: middle;\n",
              "    }\n",
              "\n",
              "    .dataframe tbody tr th {\n",
              "        vertical-align: top;\n",
              "    }\n",
              "\n",
              "    .dataframe thead th {\n",
              "        text-align: right;\n",
              "    }\n",
              "</style>\n",
              "<table border=\"1\" class=\"dataframe\">\n",
              "  <thead>\n",
              "    <tr style=\"text-align: right;\">\n",
              "      <th></th>\n",
              "      <th>Survived</th>\n",
              "    </tr>\n",
              "  </thead>\n",
              "  <tbody>\n",
              "    <tr>\n",
              "      <th>PassengerId</th>\n",
              "      <td>0.005007</td>\n",
              "    </tr>\n",
              "    <tr>\n",
              "      <th>Survived</th>\n",
              "      <td>1.000000</td>\n",
              "    </tr>\n",
              "    <tr>\n",
              "      <th>Pclass</th>\n",
              "      <td>0.338481</td>\n",
              "    </tr>\n",
              "    <tr>\n",
              "      <th>Sex</th>\n",
              "      <td>0.543351</td>\n",
              "    </tr>\n",
              "    <tr>\n",
              "      <th>Age</th>\n",
              "      <td>0.077221</td>\n",
              "    </tr>\n",
              "    <tr>\n",
              "      <th>SibSp</th>\n",
              "      <td>0.035322</td>\n",
              "    </tr>\n",
              "    <tr>\n",
              "      <th>Parch</th>\n",
              "      <td>0.081629</td>\n",
              "    </tr>\n",
              "    <tr>\n",
              "      <th>Fare</th>\n",
              "      <td>0.257307</td>\n",
              "    </tr>\n",
              "  </tbody>\n",
              "</table>\n",
              "</div>"
            ],
            "text/plain": [
              "             Survived\n",
              "PassengerId  0.005007\n",
              "Survived     1.000000\n",
              "Pclass       0.338481\n",
              "Sex          0.543351\n",
              "Age          0.077221\n",
              "SibSp        0.035322\n",
              "Parch        0.081629\n",
              "Fare         0.257307"
            ]
          },
          "metadata": {
            "tags": []
          },
          "execution_count": 11
        }
      ]
    },
    {
      "cell_type": "code",
      "metadata": {
        "colab": {
          "base_uri": "https://localhost:8080/"
        },
        "id": "YAtHV3dguK77",
        "outputId": "48c33bbc-e207-476f-ccb1-9b08c9987d2e"
      },
      "source": [
        "d_train['Relatives'] = d_train.apply (lambda row: int((row['SibSp'] + row['Parch']) > 0), axis=1)\n",
        "d_train.corr().abs()[[\"Survived\"]]"
      ],
      "execution_count": null,
      "outputs": [
        {
          "output_type": "execute_result",
          "data": {
            "text/html": [
              "<div>\n",
              "<style scoped>\n",
              "    .dataframe tbody tr th:only-of-type {\n",
              "        vertical-align: middle;\n",
              "    }\n",
              "\n",
              "    .dataframe tbody tr th {\n",
              "        vertical-align: top;\n",
              "    }\n",
              "\n",
              "    .dataframe thead th {\n",
              "        text-align: right;\n",
              "    }\n",
              "</style>\n",
              "<table border=\"1\" class=\"dataframe\">\n",
              "  <thead>\n",
              "    <tr style=\"text-align: right;\">\n",
              "      <th></th>\n",
              "      <th>Survived</th>\n",
              "    </tr>\n",
              "  </thead>\n",
              "  <tbody>\n",
              "    <tr>\n",
              "      <th>PassengerId</th>\n",
              "      <td>0.005007</td>\n",
              "    </tr>\n",
              "    <tr>\n",
              "      <th>Survived</th>\n",
              "      <td>1.000000</td>\n",
              "    </tr>\n",
              "    <tr>\n",
              "      <th>Pclass</th>\n",
              "      <td>0.338481</td>\n",
              "    </tr>\n",
              "    <tr>\n",
              "      <th>Sex</th>\n",
              "      <td>0.543351</td>\n",
              "    </tr>\n",
              "    <tr>\n",
              "      <th>Age</th>\n",
              "      <td>0.077221</td>\n",
              "    </tr>\n",
              "    <tr>\n",
              "      <th>SibSp</th>\n",
              "      <td>0.035322</td>\n",
              "    </tr>\n",
              "    <tr>\n",
              "      <th>Parch</th>\n",
              "      <td>0.081629</td>\n",
              "    </tr>\n",
              "    <tr>\n",
              "      <th>Fare</th>\n",
              "      <td>0.257307</td>\n",
              "    </tr>\n",
              "    <tr>\n",
              "      <th>Relatives</th>\n",
              "      <td>0.203367</td>\n",
              "    </tr>\n",
              "  </tbody>\n",
              "</table>\n",
              "</div>"
            ],
            "text/plain": [
              "             Survived\n",
              "PassengerId  0.005007\n",
              "Survived     1.000000\n",
              "Pclass       0.338481\n",
              "Sex          0.543351\n",
              "Age          0.077221\n",
              "SibSp        0.035322\n",
              "Parch        0.081629\n",
              "Fare         0.257307\n",
              "Relatives    0.203367"
            ]
          },
          "metadata": {
            "tags": []
          },
          "execution_count": 12
        }
      ]
    },
    {
      "cell_type": "code",
      "metadata": {
        "id": "IeuWPzHl0_Mu"
      },
      "source": [
        "d_train['Age'].fillna(value=d_train['Age'].mean(), inplace=True)"
      ],
      "execution_count": null,
      "outputs": []
    },
    {
      "cell_type": "code",
      "metadata": {
        "colab": {
          "base_uri": "https://localhost:8080/"
        },
        "id": "38l_-RhWuwWI",
        "outputId": "db9ed844-491b-4430-f946-acde5d8f51b8"
      },
      "source": [
        "d_train = d_train[['Sex', 'Pclass','Age','Relatives','Fare','Survived']]\n",
        "d_train"
      ],
      "execution_count": null,
      "outputs": [
        {
          "output_type": "execute_result",
          "data": {
            "text/html": [
              "<div>\n",
              "<style scoped>\n",
              "    .dataframe tbody tr th:only-of-type {\n",
              "        vertical-align: middle;\n",
              "    }\n",
              "\n",
              "    .dataframe tbody tr th {\n",
              "        vertical-align: top;\n",
              "    }\n",
              "\n",
              "    .dataframe thead th {\n",
              "        text-align: right;\n",
              "    }\n",
              "</style>\n",
              "<table border=\"1\" class=\"dataframe\">\n",
              "  <thead>\n",
              "    <tr style=\"text-align: right;\">\n",
              "      <th></th>\n",
              "      <th>Sex</th>\n",
              "      <th>Pclass</th>\n",
              "      <th>Age</th>\n",
              "      <th>Relatives</th>\n",
              "      <th>Fare</th>\n",
              "      <th>Survived</th>\n",
              "    </tr>\n",
              "  </thead>\n",
              "  <tbody>\n",
              "    <tr>\n",
              "      <th>0</th>\n",
              "      <td>1</td>\n",
              "      <td>3</td>\n",
              "      <td>22.000000</td>\n",
              "      <td>1</td>\n",
              "      <td>7.2500</td>\n",
              "      <td>0</td>\n",
              "    </tr>\n",
              "    <tr>\n",
              "      <th>1</th>\n",
              "      <td>0</td>\n",
              "      <td>1</td>\n",
              "      <td>38.000000</td>\n",
              "      <td>1</td>\n",
              "      <td>71.2833</td>\n",
              "      <td>1</td>\n",
              "    </tr>\n",
              "    <tr>\n",
              "      <th>2</th>\n",
              "      <td>0</td>\n",
              "      <td>3</td>\n",
              "      <td>26.000000</td>\n",
              "      <td>0</td>\n",
              "      <td>7.9250</td>\n",
              "      <td>1</td>\n",
              "    </tr>\n",
              "    <tr>\n",
              "      <th>3</th>\n",
              "      <td>0</td>\n",
              "      <td>1</td>\n",
              "      <td>35.000000</td>\n",
              "      <td>1</td>\n",
              "      <td>53.1000</td>\n",
              "      <td>1</td>\n",
              "    </tr>\n",
              "    <tr>\n",
              "      <th>4</th>\n",
              "      <td>1</td>\n",
              "      <td>3</td>\n",
              "      <td>35.000000</td>\n",
              "      <td>0</td>\n",
              "      <td>8.0500</td>\n",
              "      <td>0</td>\n",
              "    </tr>\n",
              "    <tr>\n",
              "      <th>...</th>\n",
              "      <td>...</td>\n",
              "      <td>...</td>\n",
              "      <td>...</td>\n",
              "      <td>...</td>\n",
              "      <td>...</td>\n",
              "      <td>...</td>\n",
              "    </tr>\n",
              "    <tr>\n",
              "      <th>886</th>\n",
              "      <td>1</td>\n",
              "      <td>2</td>\n",
              "      <td>27.000000</td>\n",
              "      <td>0</td>\n",
              "      <td>13.0000</td>\n",
              "      <td>0</td>\n",
              "    </tr>\n",
              "    <tr>\n",
              "      <th>887</th>\n",
              "      <td>0</td>\n",
              "      <td>1</td>\n",
              "      <td>19.000000</td>\n",
              "      <td>0</td>\n",
              "      <td>30.0000</td>\n",
              "      <td>1</td>\n",
              "    </tr>\n",
              "    <tr>\n",
              "      <th>888</th>\n",
              "      <td>0</td>\n",
              "      <td>3</td>\n",
              "      <td>29.699118</td>\n",
              "      <td>1</td>\n",
              "      <td>23.4500</td>\n",
              "      <td>0</td>\n",
              "    </tr>\n",
              "    <tr>\n",
              "      <th>889</th>\n",
              "      <td>1</td>\n",
              "      <td>1</td>\n",
              "      <td>26.000000</td>\n",
              "      <td>0</td>\n",
              "      <td>30.0000</td>\n",
              "      <td>1</td>\n",
              "    </tr>\n",
              "    <tr>\n",
              "      <th>890</th>\n",
              "      <td>1</td>\n",
              "      <td>3</td>\n",
              "      <td>32.000000</td>\n",
              "      <td>0</td>\n",
              "      <td>7.7500</td>\n",
              "      <td>0</td>\n",
              "    </tr>\n",
              "  </tbody>\n",
              "</table>\n",
              "<p>891 rows × 6 columns</p>\n",
              "</div>"
            ],
            "text/plain": [
              "     Sex  Pclass        Age  Relatives     Fare  Survived\n",
              "0      1       3  22.000000          1   7.2500         0\n",
              "1      0       1  38.000000          1  71.2833         1\n",
              "2      0       3  26.000000          0   7.9250         1\n",
              "3      0       1  35.000000          1  53.1000         1\n",
              "4      1       3  35.000000          0   8.0500         0\n",
              "..   ...     ...        ...        ...      ...       ...\n",
              "886    1       2  27.000000          0  13.0000         0\n",
              "887    0       1  19.000000          0  30.0000         1\n",
              "888    0       3  29.699118          1  23.4500         0\n",
              "889    1       1  26.000000          0  30.0000         1\n",
              "890    1       3  32.000000          0   7.7500         0\n",
              "\n",
              "[891 rows x 6 columns]"
            ]
          },
          "metadata": {
            "tags": []
          },
          "execution_count": 14
        }
      ]
    },
    {
      "cell_type": "markdown",
      "metadata": {
        "id": "-KKCsm9hqbXk"
      },
      "source": [
        "#start train"
      ]
    },
    {
      "cell_type": "markdown",
      "metadata": {
        "id": "DN0yGcK_7Sdp"
      },
      "source": [
        "##split data"
      ]
    },
    {
      "cell_type": "code",
      "metadata": {
        "id": "Vie01xyaqdpp"
      },
      "source": [
        "x_train, x_test, y_train, y_test = train_test_split(d_train[['Sex', 'Pclass','Age','Relatives','Fare']], d_train.Survived, test_size=0.2, random_state=0)"
      ],
      "execution_count": null,
      "outputs": []
    },
    {
      "cell_type": "markdown",
      "metadata": {
        "id": "ILa0MJot7XtV"
      },
      "source": [
        "##train"
      ]
    },
    {
      "cell_type": "code",
      "metadata": {
        "id": "9M9_kOekvD54",
        "colab": {
          "base_uri": "https://localhost:8080/"
        },
        "outputId": "6dac9247-e889-4c10-90d9-ced2913aa42b"
      },
      "source": [
        "sc = StandardScaler()\n",
        "X_train = sc.fit_transform(x_train)\n",
        "X_test = sc.transform(x_test)\n",
        "\n",
        "model = GaussianNB()\n",
        "model.fit(X_train, y_train)"
      ],
      "execution_count": null,
      "outputs": [
        {
          "output_type": "execute_result",
          "data": {
            "text/plain": [
              "GaussianNB(priors=None, var_smoothing=1e-09)"
            ]
          },
          "metadata": {
            "tags": []
          },
          "execution_count": 16
        }
      ]
    },
    {
      "cell_type": "markdown",
      "metadata": {
        "id": "1iw0WRk97OkV"
      },
      "source": [
        "##metric validation set"
      ]
    },
    {
      "cell_type": "code",
      "metadata": {
        "colab": {
          "base_uri": "https://localhost:8080/"
        },
        "id": "sSX1-0l1vHqt",
        "outputId": "c89735d1-5307-4ed3-82d8-ec899086c54b"
      },
      "source": [
        "predict_val = model.predict(X_test)\n",
        "print(metrics.accuracy_score(y_test, predict_val))"
      ],
      "execution_count": null,
      "outputs": [
        {
          "output_type": "stream",
          "text": [
            "0.7821229050279329\n"
          ],
          "name": "stdout"
        }
      ]
    },
    {
      "cell_type": "code",
      "metadata": {
        "colab": {
          "base_uri": "https://localhost:8080/"
        },
        "id": "8Y22MgB4v8Q1",
        "outputId": "ef029622-d39c-43d1-c9af-28b624c98cfc"
      },
      "source": [
        "predict_val"
      ],
      "execution_count": null,
      "outputs": [
        {
          "output_type": "execute_result",
          "data": {
            "text/plain": [
              "array([0, 0, 0, 1, 1, 0, 1, 1, 1, 1, 0, 1, 0, 1, 1, 1, 0, 0, 0, 0, 0, 1,\n",
              "       0, 0, 1, 1, 0, 1, 1, 1, 0, 1, 0, 0, 0, 0, 0, 0, 0, 0, 1, 0, 0, 0,\n",
              "       1, 0, 0, 1, 0, 1, 0, 1, 1, 0, 0, 0, 0, 1, 0, 0, 0, 1, 1, 0, 1, 0,\n",
              "       1, 0, 1, 1, 1, 0, 1, 0, 0, 1, 1, 0, 0, 0, 0, 0, 1, 0, 0, 1, 1, 1,\n",
              "       1, 1, 0, 0, 0, 1, 1, 0, 1, 0, 0, 0, 0, 0, 0, 0, 1, 1, 1, 1, 0, 1,\n",
              "       0, 1, 0, 1, 1, 1, 1, 1, 0, 1, 0, 0, 0, 0, 0, 0, 0, 0, 0, 0, 1, 0,\n",
              "       0, 1, 0, 0, 0, 1, 0, 0, 0, 1, 0, 1, 1, 1, 0, 1, 1, 0, 1, 1, 1, 0,\n",
              "       1, 0, 1, 0, 1, 1, 0, 0, 1, 1, 0, 0, 0, 0, 0, 0, 0, 1, 0, 0, 1, 0,\n",
              "       1, 0, 0])"
            ]
          },
          "metadata": {
            "tags": []
          },
          "execution_count": 18
        }
      ]
    },
    {
      "cell_type": "markdown",
      "metadata": {
        "id": "PPbSNh6fwBLD"
      },
      "source": [
        "#predict test"
      ]
    },
    {
      "cell_type": "code",
      "metadata": {
        "colab": {
          "base_uri": "https://localhost:8080/",
          "height": 204
        },
        "id": "JYAjn2cywC-j",
        "outputId": "5e8fe24b-49b6-4715-c0aa-25c2bc4abfd4"
      },
      "source": [
        "df_test = pd.read_csv(\"/content/test.csv\")\n",
        "df_test.head()"
      ],
      "execution_count": null,
      "outputs": [
        {
          "output_type": "execute_result",
          "data": {
            "text/html": [
              "<div>\n",
              "<style scoped>\n",
              "    .dataframe tbody tr th:only-of-type {\n",
              "        vertical-align: middle;\n",
              "    }\n",
              "\n",
              "    .dataframe tbody tr th {\n",
              "        vertical-align: top;\n",
              "    }\n",
              "\n",
              "    .dataframe thead th {\n",
              "        text-align: right;\n",
              "    }\n",
              "</style>\n",
              "<table border=\"1\" class=\"dataframe\">\n",
              "  <thead>\n",
              "    <tr style=\"text-align: right;\">\n",
              "      <th></th>\n",
              "      <th>PassengerId</th>\n",
              "      <th>Pclass</th>\n",
              "      <th>Name</th>\n",
              "      <th>Sex</th>\n",
              "      <th>Age</th>\n",
              "      <th>SibSp</th>\n",
              "      <th>Parch</th>\n",
              "      <th>Ticket</th>\n",
              "      <th>Fare</th>\n",
              "      <th>Cabin</th>\n",
              "      <th>Embarked</th>\n",
              "    </tr>\n",
              "  </thead>\n",
              "  <tbody>\n",
              "    <tr>\n",
              "      <th>0</th>\n",
              "      <td>892</td>\n",
              "      <td>3</td>\n",
              "      <td>Kelly, Mr. James</td>\n",
              "      <td>male</td>\n",
              "      <td>34.5</td>\n",
              "      <td>0</td>\n",
              "      <td>0</td>\n",
              "      <td>330911</td>\n",
              "      <td>7.8292</td>\n",
              "      <td>NaN</td>\n",
              "      <td>Q</td>\n",
              "    </tr>\n",
              "    <tr>\n",
              "      <th>1</th>\n",
              "      <td>893</td>\n",
              "      <td>3</td>\n",
              "      <td>Wilkes, Mrs. James (Ellen Needs)</td>\n",
              "      <td>female</td>\n",
              "      <td>47.0</td>\n",
              "      <td>1</td>\n",
              "      <td>0</td>\n",
              "      <td>363272</td>\n",
              "      <td>7.0000</td>\n",
              "      <td>NaN</td>\n",
              "      <td>S</td>\n",
              "    </tr>\n",
              "    <tr>\n",
              "      <th>2</th>\n",
              "      <td>894</td>\n",
              "      <td>2</td>\n",
              "      <td>Myles, Mr. Thomas Francis</td>\n",
              "      <td>male</td>\n",
              "      <td>62.0</td>\n",
              "      <td>0</td>\n",
              "      <td>0</td>\n",
              "      <td>240276</td>\n",
              "      <td>9.6875</td>\n",
              "      <td>NaN</td>\n",
              "      <td>Q</td>\n",
              "    </tr>\n",
              "    <tr>\n",
              "      <th>3</th>\n",
              "      <td>895</td>\n",
              "      <td>3</td>\n",
              "      <td>Wirz, Mr. Albert</td>\n",
              "      <td>male</td>\n",
              "      <td>27.0</td>\n",
              "      <td>0</td>\n",
              "      <td>0</td>\n",
              "      <td>315154</td>\n",
              "      <td>8.6625</td>\n",
              "      <td>NaN</td>\n",
              "      <td>S</td>\n",
              "    </tr>\n",
              "    <tr>\n",
              "      <th>4</th>\n",
              "      <td>896</td>\n",
              "      <td>3</td>\n",
              "      <td>Hirvonen, Mrs. Alexander (Helga E Lindqvist)</td>\n",
              "      <td>female</td>\n",
              "      <td>22.0</td>\n",
              "      <td>1</td>\n",
              "      <td>1</td>\n",
              "      <td>3101298</td>\n",
              "      <td>12.2875</td>\n",
              "      <td>NaN</td>\n",
              "      <td>S</td>\n",
              "    </tr>\n",
              "  </tbody>\n",
              "</table>\n",
              "</div>"
            ],
            "text/plain": [
              "   PassengerId  Pclass  ... Cabin Embarked\n",
              "0          892       3  ...   NaN        Q\n",
              "1          893       3  ...   NaN        S\n",
              "2          894       2  ...   NaN        Q\n",
              "3          895       3  ...   NaN        S\n",
              "4          896       3  ...   NaN        S\n",
              "\n",
              "[5 rows x 11 columns]"
            ]
          },
          "metadata": {
            "tags": []
          },
          "execution_count": 95
        }
      ]
    },
    {
      "cell_type": "code",
      "metadata": {
        "id": "_5IP5VnQxsrm"
      },
      "source": [
        "df_test.replace('?', np.nan, inplace= True)\n",
        "df_test = df_test.astype({\"Age\": np.float64, \"Fare\": np.float64})"
      ],
      "execution_count": null,
      "outputs": []
    },
    {
      "cell_type": "code",
      "metadata": {
        "colab": {
          "base_uri": "https://localhost:8080/",
          "height": 453
        },
        "id": "nXYfhmJJxvlw",
        "outputId": "943b3e32-98ce-4f95-d968-a0a6dcfdadde"
      },
      "source": [
        "df_test.replace({'male': 1, 'female': 0}, inplace=True)\n",
        "df_test"
      ],
      "execution_count": null,
      "outputs": [
        {
          "output_type": "execute_result",
          "data": {
            "text/html": [
              "<div>\n",
              "<style scoped>\n",
              "    .dataframe tbody tr th:only-of-type {\n",
              "        vertical-align: middle;\n",
              "    }\n",
              "\n",
              "    .dataframe tbody tr th {\n",
              "        vertical-align: top;\n",
              "    }\n",
              "\n",
              "    .dataframe thead th {\n",
              "        text-align: right;\n",
              "    }\n",
              "</style>\n",
              "<table border=\"1\" class=\"dataframe\">\n",
              "  <thead>\n",
              "    <tr style=\"text-align: right;\">\n",
              "      <th></th>\n",
              "      <th>PassengerId</th>\n",
              "      <th>Pclass</th>\n",
              "      <th>Name</th>\n",
              "      <th>Sex</th>\n",
              "      <th>Age</th>\n",
              "      <th>SibSp</th>\n",
              "      <th>Parch</th>\n",
              "      <th>Ticket</th>\n",
              "      <th>Fare</th>\n",
              "      <th>Cabin</th>\n",
              "      <th>Embarked</th>\n",
              "    </tr>\n",
              "  </thead>\n",
              "  <tbody>\n",
              "    <tr>\n",
              "      <th>0</th>\n",
              "      <td>892</td>\n",
              "      <td>3</td>\n",
              "      <td>Kelly, Mr. James</td>\n",
              "      <td>1</td>\n",
              "      <td>34.5</td>\n",
              "      <td>0</td>\n",
              "      <td>0</td>\n",
              "      <td>330911</td>\n",
              "      <td>7.8292</td>\n",
              "      <td>NaN</td>\n",
              "      <td>Q</td>\n",
              "    </tr>\n",
              "    <tr>\n",
              "      <th>1</th>\n",
              "      <td>893</td>\n",
              "      <td>3</td>\n",
              "      <td>Wilkes, Mrs. James (Ellen Needs)</td>\n",
              "      <td>0</td>\n",
              "      <td>47.0</td>\n",
              "      <td>1</td>\n",
              "      <td>0</td>\n",
              "      <td>363272</td>\n",
              "      <td>7.0000</td>\n",
              "      <td>NaN</td>\n",
              "      <td>S</td>\n",
              "    </tr>\n",
              "    <tr>\n",
              "      <th>2</th>\n",
              "      <td>894</td>\n",
              "      <td>2</td>\n",
              "      <td>Myles, Mr. Thomas Francis</td>\n",
              "      <td>1</td>\n",
              "      <td>62.0</td>\n",
              "      <td>0</td>\n",
              "      <td>0</td>\n",
              "      <td>240276</td>\n",
              "      <td>9.6875</td>\n",
              "      <td>NaN</td>\n",
              "      <td>Q</td>\n",
              "    </tr>\n",
              "    <tr>\n",
              "      <th>3</th>\n",
              "      <td>895</td>\n",
              "      <td>3</td>\n",
              "      <td>Wirz, Mr. Albert</td>\n",
              "      <td>1</td>\n",
              "      <td>27.0</td>\n",
              "      <td>0</td>\n",
              "      <td>0</td>\n",
              "      <td>315154</td>\n",
              "      <td>8.6625</td>\n",
              "      <td>NaN</td>\n",
              "      <td>S</td>\n",
              "    </tr>\n",
              "    <tr>\n",
              "      <th>4</th>\n",
              "      <td>896</td>\n",
              "      <td>3</td>\n",
              "      <td>Hirvonen, Mrs. Alexander (Helga E Lindqvist)</td>\n",
              "      <td>0</td>\n",
              "      <td>22.0</td>\n",
              "      <td>1</td>\n",
              "      <td>1</td>\n",
              "      <td>3101298</td>\n",
              "      <td>12.2875</td>\n",
              "      <td>NaN</td>\n",
              "      <td>S</td>\n",
              "    </tr>\n",
              "    <tr>\n",
              "      <th>...</th>\n",
              "      <td>...</td>\n",
              "      <td>...</td>\n",
              "      <td>...</td>\n",
              "      <td>...</td>\n",
              "      <td>...</td>\n",
              "      <td>...</td>\n",
              "      <td>...</td>\n",
              "      <td>...</td>\n",
              "      <td>...</td>\n",
              "      <td>...</td>\n",
              "      <td>...</td>\n",
              "    </tr>\n",
              "    <tr>\n",
              "      <th>413</th>\n",
              "      <td>1305</td>\n",
              "      <td>3</td>\n",
              "      <td>Spector, Mr. Woolf</td>\n",
              "      <td>1</td>\n",
              "      <td>NaN</td>\n",
              "      <td>0</td>\n",
              "      <td>0</td>\n",
              "      <td>A.5. 3236</td>\n",
              "      <td>8.0500</td>\n",
              "      <td>NaN</td>\n",
              "      <td>S</td>\n",
              "    </tr>\n",
              "    <tr>\n",
              "      <th>414</th>\n",
              "      <td>1306</td>\n",
              "      <td>1</td>\n",
              "      <td>Oliva y Ocana, Dona. Fermina</td>\n",
              "      <td>0</td>\n",
              "      <td>39.0</td>\n",
              "      <td>0</td>\n",
              "      <td>0</td>\n",
              "      <td>PC 17758</td>\n",
              "      <td>108.9000</td>\n",
              "      <td>C105</td>\n",
              "      <td>C</td>\n",
              "    </tr>\n",
              "    <tr>\n",
              "      <th>415</th>\n",
              "      <td>1307</td>\n",
              "      <td>3</td>\n",
              "      <td>Saether, Mr. Simon Sivertsen</td>\n",
              "      <td>1</td>\n",
              "      <td>38.5</td>\n",
              "      <td>0</td>\n",
              "      <td>0</td>\n",
              "      <td>SOTON/O.Q. 3101262</td>\n",
              "      <td>7.2500</td>\n",
              "      <td>NaN</td>\n",
              "      <td>S</td>\n",
              "    </tr>\n",
              "    <tr>\n",
              "      <th>416</th>\n",
              "      <td>1308</td>\n",
              "      <td>3</td>\n",
              "      <td>Ware, Mr. Frederick</td>\n",
              "      <td>1</td>\n",
              "      <td>NaN</td>\n",
              "      <td>0</td>\n",
              "      <td>0</td>\n",
              "      <td>359309</td>\n",
              "      <td>8.0500</td>\n",
              "      <td>NaN</td>\n",
              "      <td>S</td>\n",
              "    </tr>\n",
              "    <tr>\n",
              "      <th>417</th>\n",
              "      <td>1309</td>\n",
              "      <td>3</td>\n",
              "      <td>Peter, Master. Michael J</td>\n",
              "      <td>1</td>\n",
              "      <td>NaN</td>\n",
              "      <td>1</td>\n",
              "      <td>1</td>\n",
              "      <td>2668</td>\n",
              "      <td>22.3583</td>\n",
              "      <td>NaN</td>\n",
              "      <td>C</td>\n",
              "    </tr>\n",
              "  </tbody>\n",
              "</table>\n",
              "<p>418 rows × 11 columns</p>\n",
              "</div>"
            ],
            "text/plain": [
              "     PassengerId  Pclass  ... Cabin  Embarked\n",
              "0            892       3  ...   NaN         Q\n",
              "1            893       3  ...   NaN         S\n",
              "2            894       2  ...   NaN         Q\n",
              "3            895       3  ...   NaN         S\n",
              "4            896       3  ...   NaN         S\n",
              "..           ...     ...  ...   ...       ...\n",
              "413         1305       3  ...   NaN         S\n",
              "414         1306       1  ...  C105         C\n",
              "415         1307       3  ...   NaN         S\n",
              "416         1308       3  ...   NaN         S\n",
              "417         1309       3  ...   NaN         C\n",
              "\n",
              "[418 rows x 11 columns]"
            ]
          },
          "metadata": {
            "tags": []
          },
          "execution_count": 97
        }
      ]
    },
    {
      "cell_type": "code",
      "metadata": {
        "id": "DVOSDgiTy1D7"
      },
      "source": [
        "df_test['Relatives'] = df_test.apply (lambda row: int((row['SibSp'] + row['Parch']) > 0), axis=1)"
      ],
      "execution_count": null,
      "outputs": []
    },
    {
      "cell_type": "code",
      "metadata": {
        "colab": {
          "base_uri": "https://localhost:8080/"
        },
        "id": "sXlKH6Lc5WAA",
        "outputId": "bf11e78f-8c3b-45bf-9be3-d3eba3a8278a"
      },
      "source": [
        "print (df_test['Age'].isnull().sum())\n",
        "print (df_test['Fare'].isnull().sum())"
      ],
      "execution_count": null,
      "outputs": [
        {
          "output_type": "stream",
          "text": [
            "86\n",
            "1\n"
          ],
          "name": "stdout"
        }
      ]
    },
    {
      "cell_type": "code",
      "metadata": {
        "id": "z9wNm8Ay1hgd"
      },
      "source": [
        "df_test['Age'].fillna(value=df_test['Age'].mean(), inplace=True)\n",
        "df_test['Fare'].fillna(value=df_test['Fare'].mean(), inplace=True)"
      ],
      "execution_count": null,
      "outputs": []
    },
    {
      "cell_type": "code",
      "metadata": {
        "colab": {
          "base_uri": "https://localhost:8080/",
          "height": 419
        },
        "id": "PnTiNK3wyq6T",
        "outputId": "9d2261c3-1abc-4682-d62a-13bed5ebb08a"
      },
      "source": [
        "df_test = df_test[['PassengerId', 'Sex', 'Pclass','Age','Relatives','Fare']]\n",
        "df_test"
      ],
      "execution_count": null,
      "outputs": [
        {
          "output_type": "execute_result",
          "data": {
            "text/html": [
              "<div>\n",
              "<style scoped>\n",
              "    .dataframe tbody tr th:only-of-type {\n",
              "        vertical-align: middle;\n",
              "    }\n",
              "\n",
              "    .dataframe tbody tr th {\n",
              "        vertical-align: top;\n",
              "    }\n",
              "\n",
              "    .dataframe thead th {\n",
              "        text-align: right;\n",
              "    }\n",
              "</style>\n",
              "<table border=\"1\" class=\"dataframe\">\n",
              "  <thead>\n",
              "    <tr style=\"text-align: right;\">\n",
              "      <th></th>\n",
              "      <th>PassengerId</th>\n",
              "      <th>Sex</th>\n",
              "      <th>Pclass</th>\n",
              "      <th>Age</th>\n",
              "      <th>Relatives</th>\n",
              "      <th>Fare</th>\n",
              "    </tr>\n",
              "  </thead>\n",
              "  <tbody>\n",
              "    <tr>\n",
              "      <th>0</th>\n",
              "      <td>892</td>\n",
              "      <td>1</td>\n",
              "      <td>3</td>\n",
              "      <td>34.50000</td>\n",
              "      <td>0</td>\n",
              "      <td>7.8292</td>\n",
              "    </tr>\n",
              "    <tr>\n",
              "      <th>1</th>\n",
              "      <td>893</td>\n",
              "      <td>0</td>\n",
              "      <td>3</td>\n",
              "      <td>47.00000</td>\n",
              "      <td>1</td>\n",
              "      <td>7.0000</td>\n",
              "    </tr>\n",
              "    <tr>\n",
              "      <th>2</th>\n",
              "      <td>894</td>\n",
              "      <td>1</td>\n",
              "      <td>2</td>\n",
              "      <td>62.00000</td>\n",
              "      <td>0</td>\n",
              "      <td>9.6875</td>\n",
              "    </tr>\n",
              "    <tr>\n",
              "      <th>3</th>\n",
              "      <td>895</td>\n",
              "      <td>1</td>\n",
              "      <td>3</td>\n",
              "      <td>27.00000</td>\n",
              "      <td>0</td>\n",
              "      <td>8.6625</td>\n",
              "    </tr>\n",
              "    <tr>\n",
              "      <th>4</th>\n",
              "      <td>896</td>\n",
              "      <td>0</td>\n",
              "      <td>3</td>\n",
              "      <td>22.00000</td>\n",
              "      <td>1</td>\n",
              "      <td>12.2875</td>\n",
              "    </tr>\n",
              "    <tr>\n",
              "      <th>...</th>\n",
              "      <td>...</td>\n",
              "      <td>...</td>\n",
              "      <td>...</td>\n",
              "      <td>...</td>\n",
              "      <td>...</td>\n",
              "      <td>...</td>\n",
              "    </tr>\n",
              "    <tr>\n",
              "      <th>413</th>\n",
              "      <td>1305</td>\n",
              "      <td>1</td>\n",
              "      <td>3</td>\n",
              "      <td>30.27259</td>\n",
              "      <td>0</td>\n",
              "      <td>8.0500</td>\n",
              "    </tr>\n",
              "    <tr>\n",
              "      <th>414</th>\n",
              "      <td>1306</td>\n",
              "      <td>0</td>\n",
              "      <td>1</td>\n",
              "      <td>39.00000</td>\n",
              "      <td>0</td>\n",
              "      <td>108.9000</td>\n",
              "    </tr>\n",
              "    <tr>\n",
              "      <th>415</th>\n",
              "      <td>1307</td>\n",
              "      <td>1</td>\n",
              "      <td>3</td>\n",
              "      <td>38.50000</td>\n",
              "      <td>0</td>\n",
              "      <td>7.2500</td>\n",
              "    </tr>\n",
              "    <tr>\n",
              "      <th>416</th>\n",
              "      <td>1308</td>\n",
              "      <td>1</td>\n",
              "      <td>3</td>\n",
              "      <td>30.27259</td>\n",
              "      <td>0</td>\n",
              "      <td>8.0500</td>\n",
              "    </tr>\n",
              "    <tr>\n",
              "      <th>417</th>\n",
              "      <td>1309</td>\n",
              "      <td>1</td>\n",
              "      <td>3</td>\n",
              "      <td>30.27259</td>\n",
              "      <td>1</td>\n",
              "      <td>22.3583</td>\n",
              "    </tr>\n",
              "  </tbody>\n",
              "</table>\n",
              "<p>418 rows × 6 columns</p>\n",
              "</div>"
            ],
            "text/plain": [
              "     PassengerId  Sex  Pclass       Age  Relatives      Fare\n",
              "0            892    1       3  34.50000          0    7.8292\n",
              "1            893    0       3  47.00000          1    7.0000\n",
              "2            894    1       2  62.00000          0    9.6875\n",
              "3            895    1       3  27.00000          0    8.6625\n",
              "4            896    0       3  22.00000          1   12.2875\n",
              "..           ...  ...     ...       ...        ...       ...\n",
              "413         1305    1       3  30.27259          0    8.0500\n",
              "414         1306    0       1  39.00000          0  108.9000\n",
              "415         1307    1       3  38.50000          0    7.2500\n",
              "416         1308    1       3  30.27259          0    8.0500\n",
              "417         1309    1       3  30.27259          1   22.3583\n",
              "\n",
              "[418 rows x 6 columns]"
            ]
          },
          "metadata": {
            "tags": []
          },
          "execution_count": 101
        }
      ]
    },
    {
      "cell_type": "code",
      "metadata": {
        "id": "Pz60cQhqyi3m"
      },
      "source": [
        "st = StandardScaler()\n",
        "test = st.fit_transform(df_test[['Sex', 'Pclass','Age','Relatives','Fare']])"
      ],
      "execution_count": null,
      "outputs": []
    },
    {
      "cell_type": "code",
      "metadata": {
        "colab": {
          "base_uri": "https://localhost:8080/"
        },
        "id": "1Sbr-cMT14fY",
        "outputId": "3f13cf14-135a-4a57-c7ec-5df68814d976"
      },
      "source": [
        "predict_test = model.predict(test)\n",
        "print(len(predict_test))"
      ],
      "execution_count": null,
      "outputs": [
        {
          "output_type": "stream",
          "text": [
            "418\n"
          ],
          "name": "stdout"
        }
      ]
    },
    {
      "cell_type": "code",
      "metadata": {
        "colab": {
          "base_uri": "https://localhost:8080/",
          "height": 419
        },
        "id": "jGP4OG-i8JVT",
        "outputId": "e7f588eb-29cf-4289-98e4-83c8e6d836a0"
      },
      "source": [
        "gender_submission = pd.DataFrame({'PassengerId': df_test['PassengerId'],\n",
        "                                  'Survived': predict_test})\n",
        "\n",
        "gender_submission"
      ],
      "execution_count": null,
      "outputs": [
        {
          "output_type": "execute_result",
          "data": {
            "text/html": [
              "<div>\n",
              "<style scoped>\n",
              "    .dataframe tbody tr th:only-of-type {\n",
              "        vertical-align: middle;\n",
              "    }\n",
              "\n",
              "    .dataframe tbody tr th {\n",
              "        vertical-align: top;\n",
              "    }\n",
              "\n",
              "    .dataframe thead th {\n",
              "        text-align: right;\n",
              "    }\n",
              "</style>\n",
              "<table border=\"1\" class=\"dataframe\">\n",
              "  <thead>\n",
              "    <tr style=\"text-align: right;\">\n",
              "      <th></th>\n",
              "      <th>PassengerId</th>\n",
              "      <th>Survived</th>\n",
              "    </tr>\n",
              "  </thead>\n",
              "  <tbody>\n",
              "    <tr>\n",
              "      <th>0</th>\n",
              "      <td>892</td>\n",
              "      <td>0</td>\n",
              "    </tr>\n",
              "    <tr>\n",
              "      <th>1</th>\n",
              "      <td>893</td>\n",
              "      <td>1</td>\n",
              "    </tr>\n",
              "    <tr>\n",
              "      <th>2</th>\n",
              "      <td>894</td>\n",
              "      <td>0</td>\n",
              "    </tr>\n",
              "    <tr>\n",
              "      <th>3</th>\n",
              "      <td>895</td>\n",
              "      <td>0</td>\n",
              "    </tr>\n",
              "    <tr>\n",
              "      <th>4</th>\n",
              "      <td>896</td>\n",
              "      <td>1</td>\n",
              "    </tr>\n",
              "    <tr>\n",
              "      <th>...</th>\n",
              "      <td>...</td>\n",
              "      <td>...</td>\n",
              "    </tr>\n",
              "    <tr>\n",
              "      <th>413</th>\n",
              "      <td>1305</td>\n",
              "      <td>0</td>\n",
              "    </tr>\n",
              "    <tr>\n",
              "      <th>414</th>\n",
              "      <td>1306</td>\n",
              "      <td>1</td>\n",
              "    </tr>\n",
              "    <tr>\n",
              "      <th>415</th>\n",
              "      <td>1307</td>\n",
              "      <td>0</td>\n",
              "    </tr>\n",
              "    <tr>\n",
              "      <th>416</th>\n",
              "      <td>1308</td>\n",
              "      <td>0</td>\n",
              "    </tr>\n",
              "    <tr>\n",
              "      <th>417</th>\n",
              "      <td>1309</td>\n",
              "      <td>0</td>\n",
              "    </tr>\n",
              "  </tbody>\n",
              "</table>\n",
              "<p>418 rows × 2 columns</p>\n",
              "</div>"
            ],
            "text/plain": [
              "     PassengerId  Survived\n",
              "0            892         0\n",
              "1            893         1\n",
              "2            894         0\n",
              "3            895         0\n",
              "4            896         1\n",
              "..           ...       ...\n",
              "413         1305         0\n",
              "414         1306         1\n",
              "415         1307         0\n",
              "416         1308         0\n",
              "417         1309         0\n",
              "\n",
              "[418 rows x 2 columns]"
            ]
          },
          "metadata": {
            "tags": []
          },
          "execution_count": 28
        }
      ]
    },
    {
      "cell_type": "markdown",
      "metadata": {
        "id": "cHljmZKCZIH4"
      },
      "source": [
        "##save csv"
      ]
    },
    {
      "cell_type": "code",
      "metadata": {
        "colab": {
          "base_uri": "https://localhost:8080/"
        },
        "id": "Xm93-RmC8b0S",
        "outputId": "87662764-76c5-4791-a681-f878cf402a74"
      },
      "source": [
        "from google.colab import drive\n",
        "drive.mount('/content/gdrive')"
      ],
      "execution_count": null,
      "outputs": [
        {
          "output_type": "stream",
          "text": [
            "Mounted at /content/gdrive\n"
          ],
          "name": "stdout"
        }
      ]
    },
    {
      "cell_type": "code",
      "metadata": {
        "id": "CCwoMpE48OYr"
      },
      "source": [
        "gender_submission.to_csv('/content/gdrive/MyDrive/Colab Notebooks/Kaggle Competitions/Titanic-ML-from-Disaster/gender_submission.csv', index=False)\n",
        "gender_submission.to_csv('/content/gender_submission.csv', index=False)"
      ],
      "execution_count": null,
      "outputs": []
    },
    {
      "cell_type": "markdown",
      "metadata": {
        "id": "0NbFx-0_M8_e"
      },
      "source": [
        "#Use NN"
      ]
    },
    {
      "cell_type": "code",
      "metadata": {
        "id": "LUHM9w3ZR0Xe"
      },
      "source": [
        "from keras.models import Sequential\n",
        "from keras.layers import Dense\n",
        "from keras import callbacks\n",
        "from tensorflow import keras\n",
        "from keras.models import load_model\n"
      ],
      "execution_count": null,
      "outputs": []
    },
    {
      "cell_type": "code",
      "metadata": {
        "id": "e4ugFqeQRTgb"
      },
      "source": [
        "keras.backend.clear_session()"
      ],
      "execution_count": null,
      "outputs": []
    },
    {
      "cell_type": "code",
      "metadata": {
        "colab": {
          "base_uri": "https://localhost:8080/"
        },
        "id": "Z_mfCIsyNCtG",
        "outputId": "f9837a21-0b11-4b1e-ce91-5ae126174f07"
      },
      "source": [
        "model_nn = Sequential()\n",
        "\n",
        "model_nn.add(Dense(5, kernel_initializer = 'uniform', activation = 'relu', input_dim = 5))\n",
        "model_nn.add(Dense(5, kernel_initializer = 'uniform', activation = 'relu'))\n",
        "model_nn.add(Dense(1, kernel_initializer = 'uniform', activation = 'sigmoid'))\n",
        "\n",
        "model_nn.summary()"
      ],
      "execution_count": null,
      "outputs": [
        {
          "output_type": "stream",
          "text": [
            "Model: \"sequential\"\n",
            "_________________________________________________________________\n",
            "Layer (type)                 Output Shape              Param #   \n",
            "=================================================================\n",
            "dense (Dense)                (None, 5)                 30        \n",
            "_________________________________________________________________\n",
            "dense_1 (Dense)              (None, 5)                 30        \n",
            "_________________________________________________________________\n",
            "dense_2 (Dense)              (None, 1)                 6         \n",
            "=================================================================\n",
            "Total params: 66\n",
            "Trainable params: 66\n",
            "Non-trainable params: 0\n",
            "_________________________________________________________________\n"
          ],
          "name": "stdout"
        }
      ]
    },
    {
      "cell_type": "code",
      "metadata": {
        "id": "mQRBZOJFPidK"
      },
      "source": [
        "x_train, x_test, y_train, y_test = train_test_split(d_train[['Sex', 'Pclass','Age','Relatives','Fare']], d_train.Survived, test_size=0.2, random_state=0)\n",
        "\n",
        "sc = StandardScaler()\n",
        "X_train = sc.fit_transform(x_train)\n",
        "X_test = sc.transform(x_test)"
      ],
      "execution_count": null,
      "outputs": []
    },
    {
      "cell_type": "code",
      "metadata": {
        "id": "bw5-gl43M_HG"
      },
      "source": [
        "model_nn.compile(optimizer=\"adam\", loss='binary_crossentropy', metrics=['accuracy'])\n",
        "#model_nn.fit(X_train, y_train, batch_size=32, epochs=50)"
      ],
      "execution_count": null,
      "outputs": []
    },
    {
      "cell_type": "code",
      "metadata": {
        "colab": {
          "base_uri": "https://localhost:8080/"
        },
        "id": "unBTMHjFNNj2",
        "outputId": "a9759c15-f217-4270-e64b-9e8588a05518"
      },
      "source": [
        "mc = callbacks.ModelCheckpoint('model_nn.h5',\n",
        "                                monitor='val_accuracy', \n",
        "                                mode='max', verbose=1, \n",
        "                                save_best_only=True)\n",
        "es = callbacks.EarlyStopping(monitor =\"val_loss\", \n",
        "                                    mode =\"min\", verbose=1,  patience = 5, \n",
        "                                    restore_best_weights = True)\n",
        "\n",
        "# huấn luyện fc\n",
        "print(\"[INFO] training head...\")\n",
        "H = model_nn.fit(\n",
        "            X_train, y_train, batch_size=32,\n",
        "            validation_data=(X_test, y_test),\n",
        "            epochs=500, callbacks = [es, mc])"
      ],
      "execution_count": null,
      "outputs": [
        {
          "output_type": "stream",
          "text": [
            "[INFO] training head...\n",
            "Epoch 1/500\n",
            "23/23 [==============================] - 1s 17ms/step - loss: 0.6925 - accuracy: 0.5763 - val_loss: 0.6907 - val_accuracy: 0.6145\n",
            "\n",
            "Epoch 00001: val_accuracy improved from -inf to 0.61453, saving model to model_nn.h5\n",
            "Epoch 2/500\n",
            "23/23 [==============================] - 0s 4ms/step - loss: 0.6902 - accuracy: 0.6109 - val_loss: 0.6880 - val_accuracy: 0.6145\n",
            "\n",
            "Epoch 00002: val_accuracy did not improve from 0.61453\n",
            "Epoch 3/500\n",
            "23/23 [==============================] - 0s 4ms/step - loss: 0.6867 - accuracy: 0.6241 - val_loss: 0.6834 - val_accuracy: 0.6145\n",
            "\n",
            "Epoch 00003: val_accuracy did not improve from 0.61453\n",
            "Epoch 4/500\n",
            "23/23 [==============================] - 0s 5ms/step - loss: 0.6833 - accuracy: 0.5996 - val_loss: 0.6755 - val_accuracy: 0.6145\n",
            "\n",
            "Epoch 00004: val_accuracy did not improve from 0.61453\n",
            "Epoch 5/500\n",
            "23/23 [==============================] - 0s 4ms/step - loss: 0.6750 - accuracy: 0.6046 - val_loss: 0.6626 - val_accuracy: 0.6145\n",
            "\n",
            "Epoch 00005: val_accuracy did not improve from 0.61453\n",
            "Epoch 6/500\n",
            "23/23 [==============================] - 0s 4ms/step - loss: 0.6623 - accuracy: 0.6066 - val_loss: 0.6448 - val_accuracy: 0.6145\n",
            "\n",
            "Epoch 00006: val_accuracy did not improve from 0.61453\n",
            "Epoch 7/500\n",
            "23/23 [==============================] - 0s 5ms/step - loss: 0.6459 - accuracy: 0.6051 - val_loss: 0.6199 - val_accuracy: 0.7374\n",
            "\n",
            "Epoch 00007: val_accuracy improved from 0.61453 to 0.73743, saving model to model_nn.h5\n",
            "Epoch 8/500\n",
            "23/23 [==============================] - 0s 5ms/step - loss: 0.6196 - accuracy: 0.7274 - val_loss: 0.5896 - val_accuracy: 0.7877\n",
            "\n",
            "Epoch 00008: val_accuracy improved from 0.73743 to 0.78771, saving model to model_nn.h5\n",
            "Epoch 9/500\n",
            "23/23 [==============================] - 0s 5ms/step - loss: 0.5971 - accuracy: 0.7705 - val_loss: 0.5592 - val_accuracy: 0.8045\n",
            "\n",
            "Epoch 00009: val_accuracy improved from 0.78771 to 0.80447, saving model to model_nn.h5\n",
            "Epoch 10/500\n",
            "23/23 [==============================] - 0s 5ms/step - loss: 0.5562 - accuracy: 0.7864 - val_loss: 0.5285 - val_accuracy: 0.7821\n",
            "\n",
            "Epoch 00010: val_accuracy did not improve from 0.80447\n",
            "Epoch 11/500\n",
            "23/23 [==============================] - 0s 4ms/step - loss: 0.5361 - accuracy: 0.7653 - val_loss: 0.5050 - val_accuracy: 0.7933\n",
            "\n",
            "Epoch 00011: val_accuracy did not improve from 0.80447\n",
            "Epoch 12/500\n",
            "23/23 [==============================] - 0s 5ms/step - loss: 0.5125 - accuracy: 0.7838 - val_loss: 0.4842 - val_accuracy: 0.7877\n",
            "\n",
            "Epoch 00012: val_accuracy did not improve from 0.80447\n",
            "Epoch 13/500\n",
            "23/23 [==============================] - 0s 5ms/step - loss: 0.4985 - accuracy: 0.7863 - val_loss: 0.4680 - val_accuracy: 0.7933\n",
            "\n",
            "Epoch 00013: val_accuracy did not improve from 0.80447\n",
            "Epoch 14/500\n",
            "23/23 [==============================] - 0s 5ms/step - loss: 0.5017 - accuracy: 0.7805 - val_loss: 0.4585 - val_accuracy: 0.7933\n",
            "\n",
            "Epoch 00014: val_accuracy did not improve from 0.80447\n",
            "Epoch 15/500\n",
            "23/23 [==============================] - 0s 4ms/step - loss: 0.4679 - accuracy: 0.8064 - val_loss: 0.4491 - val_accuracy: 0.7877\n",
            "\n",
            "Epoch 00015: val_accuracy did not improve from 0.80447\n",
            "Epoch 16/500\n",
            "23/23 [==============================] - 0s 5ms/step - loss: 0.4814 - accuracy: 0.7930 - val_loss: 0.4440 - val_accuracy: 0.7877\n",
            "\n",
            "Epoch 00016: val_accuracy did not improve from 0.80447\n",
            "Epoch 17/500\n",
            "23/23 [==============================] - 0s 5ms/step - loss: 0.4727 - accuracy: 0.7871 - val_loss: 0.4375 - val_accuracy: 0.7933\n",
            "\n",
            "Epoch 00017: val_accuracy did not improve from 0.80447\n",
            "Epoch 18/500\n",
            "23/23 [==============================] - 0s 5ms/step - loss: 0.4672 - accuracy: 0.7939 - val_loss: 0.4352 - val_accuracy: 0.7933\n",
            "\n",
            "Epoch 00018: val_accuracy did not improve from 0.80447\n",
            "Epoch 19/500\n",
            "23/23 [==============================] - 0s 4ms/step - loss: 0.4375 - accuracy: 0.8075 - val_loss: 0.4309 - val_accuracy: 0.7933\n",
            "\n",
            "Epoch 00019: val_accuracy did not improve from 0.80447\n",
            "Epoch 20/500\n",
            "23/23 [==============================] - 0s 5ms/step - loss: 0.4725 - accuracy: 0.7764 - val_loss: 0.4297 - val_accuracy: 0.7933\n",
            "\n",
            "Epoch 00020: val_accuracy did not improve from 0.80447\n",
            "Epoch 21/500\n",
            "23/23 [==============================] - 0s 5ms/step - loss: 0.4822 - accuracy: 0.7672 - val_loss: 0.4279 - val_accuracy: 0.7933\n",
            "\n",
            "Epoch 00021: val_accuracy did not improve from 0.80447\n",
            "Epoch 22/500\n",
            "23/23 [==============================] - 0s 5ms/step - loss: 0.4593 - accuracy: 0.7863 - val_loss: 0.4266 - val_accuracy: 0.7933\n",
            "\n",
            "Epoch 00022: val_accuracy did not improve from 0.80447\n",
            "Epoch 23/500\n",
            "23/23 [==============================] - 0s 5ms/step - loss: 0.4780 - accuracy: 0.7826 - val_loss: 0.4273 - val_accuracy: 0.7933\n",
            "\n",
            "Epoch 00023: val_accuracy did not improve from 0.80447\n",
            "Epoch 24/500\n",
            "23/23 [==============================] - 0s 4ms/step - loss: 0.4223 - accuracy: 0.8069 - val_loss: 0.4236 - val_accuracy: 0.7989\n",
            "\n",
            "Epoch 00024: val_accuracy did not improve from 0.80447\n",
            "Epoch 25/500\n",
            "23/23 [==============================] - 0s 5ms/step - loss: 0.4572 - accuracy: 0.7826 - val_loss: 0.4231 - val_accuracy: 0.7989\n",
            "\n",
            "Epoch 00025: val_accuracy did not improve from 0.80447\n",
            "Epoch 26/500\n",
            "23/23 [==============================] - 0s 5ms/step - loss: 0.4456 - accuracy: 0.7864 - val_loss: 0.4223 - val_accuracy: 0.7989\n",
            "\n",
            "Epoch 00026: val_accuracy did not improve from 0.80447\n",
            "Epoch 27/500\n",
            "23/23 [==============================] - 0s 4ms/step - loss: 0.4391 - accuracy: 0.8192 - val_loss: 0.4227 - val_accuracy: 0.7933\n",
            "\n",
            "Epoch 00027: val_accuracy did not improve from 0.80447\n",
            "Epoch 28/500\n",
            "23/23 [==============================] - 0s 4ms/step - loss: 0.4538 - accuracy: 0.8080 - val_loss: 0.4209 - val_accuracy: 0.7989\n",
            "\n",
            "Epoch 00028: val_accuracy did not improve from 0.80447\n",
            "Epoch 29/500\n",
            "23/23 [==============================] - 0s 6ms/step - loss: 0.4835 - accuracy: 0.7746 - val_loss: 0.4199 - val_accuracy: 0.7989\n",
            "\n",
            "Epoch 00029: val_accuracy did not improve from 0.80447\n",
            "Epoch 30/500\n",
            "23/23 [==============================] - 0s 4ms/step - loss: 0.4472 - accuracy: 0.8010 - val_loss: 0.4186 - val_accuracy: 0.7989\n",
            "\n",
            "Epoch 00030: val_accuracy did not improve from 0.80447\n",
            "Epoch 31/500\n",
            "23/23 [==============================] - 0s 4ms/step - loss: 0.4151 - accuracy: 0.8054 - val_loss: 0.4172 - val_accuracy: 0.7989\n",
            "\n",
            "Epoch 00031: val_accuracy did not improve from 0.80447\n",
            "Epoch 32/500\n",
            "23/23 [==============================] - 0s 4ms/step - loss: 0.4577 - accuracy: 0.7861 - val_loss: 0.4165 - val_accuracy: 0.8045\n",
            "\n",
            "Epoch 00032: val_accuracy did not improve from 0.80447\n",
            "Epoch 33/500\n",
            "23/23 [==============================] - 0s 5ms/step - loss: 0.4151 - accuracy: 0.8155 - val_loss: 0.4156 - val_accuracy: 0.7989\n",
            "\n",
            "Epoch 00033: val_accuracy did not improve from 0.80447\n",
            "Epoch 34/500\n",
            "23/23 [==============================] - 0s 5ms/step - loss: 0.4211 - accuracy: 0.8034 - val_loss: 0.4154 - val_accuracy: 0.7933\n",
            "\n",
            "Epoch 00034: val_accuracy did not improve from 0.80447\n",
            "Epoch 35/500\n",
            "23/23 [==============================] - 0s 5ms/step - loss: 0.4332 - accuracy: 0.8064 - val_loss: 0.4143 - val_accuracy: 0.7989\n",
            "\n",
            "Epoch 00035: val_accuracy did not improve from 0.80447\n",
            "Epoch 36/500\n",
            "23/23 [==============================] - 0s 5ms/step - loss: 0.4485 - accuracy: 0.7853 - val_loss: 0.4132 - val_accuracy: 0.7877\n",
            "\n",
            "Epoch 00036: val_accuracy did not improve from 0.80447\n",
            "Epoch 37/500\n",
            "23/23 [==============================] - 0s 5ms/step - loss: 0.4435 - accuracy: 0.7875 - val_loss: 0.4142 - val_accuracy: 0.7989\n",
            "\n",
            "Epoch 00037: val_accuracy did not improve from 0.80447\n",
            "Epoch 38/500\n",
            "23/23 [==============================] - 0s 5ms/step - loss: 0.4248 - accuracy: 0.7906 - val_loss: 0.4127 - val_accuracy: 0.8045\n",
            "\n",
            "Epoch 00038: val_accuracy did not improve from 0.80447\n",
            "Epoch 39/500\n",
            "23/23 [==============================] - 0s 4ms/step - loss: 0.4626 - accuracy: 0.7708 - val_loss: 0.4119 - val_accuracy: 0.7933\n",
            "\n",
            "Epoch 00039: val_accuracy did not improve from 0.80447\n",
            "Epoch 40/500\n",
            "23/23 [==============================] - 0s 4ms/step - loss: 0.4469 - accuracy: 0.7779 - val_loss: 0.4116 - val_accuracy: 0.7989\n",
            "\n",
            "Epoch 00040: val_accuracy did not improve from 0.80447\n",
            "Epoch 41/500\n",
            "23/23 [==============================] - 0s 4ms/step - loss: 0.4439 - accuracy: 0.7979 - val_loss: 0.4120 - val_accuracy: 0.7933\n",
            "\n",
            "Epoch 00041: val_accuracy did not improve from 0.80447\n",
            "Epoch 42/500\n",
            "23/23 [==============================] - 0s 5ms/step - loss: 0.4266 - accuracy: 0.8001 - val_loss: 0.4114 - val_accuracy: 0.8045\n",
            "\n",
            "Epoch 00042: val_accuracy did not improve from 0.80447\n",
            "Epoch 43/500\n",
            "23/23 [==============================] - 0s 5ms/step - loss: 0.4560 - accuracy: 0.7823 - val_loss: 0.4106 - val_accuracy: 0.8045\n",
            "\n",
            "Epoch 00043: val_accuracy did not improve from 0.80447\n",
            "Epoch 44/500\n",
            "23/23 [==============================] - 0s 5ms/step - loss: 0.4289 - accuracy: 0.7967 - val_loss: 0.4100 - val_accuracy: 0.8045\n",
            "\n",
            "Epoch 00044: val_accuracy did not improve from 0.80447\n",
            "Epoch 45/500\n",
            "23/23 [==============================] - 0s 5ms/step - loss: 0.4318 - accuracy: 0.7920 - val_loss: 0.4095 - val_accuracy: 0.7989\n",
            "\n",
            "Epoch 00045: val_accuracy did not improve from 0.80447\n",
            "Epoch 46/500\n",
            "23/23 [==============================] - 0s 5ms/step - loss: 0.4420 - accuracy: 0.7747 - val_loss: 0.4091 - val_accuracy: 0.7989\n",
            "\n",
            "Epoch 00046: val_accuracy did not improve from 0.80447\n",
            "Epoch 47/500\n",
            "23/23 [==============================] - 0s 5ms/step - loss: 0.4633 - accuracy: 0.7700 - val_loss: 0.4089 - val_accuracy: 0.7989\n",
            "\n",
            "Epoch 00047: val_accuracy did not improve from 0.80447\n",
            "Epoch 48/500\n",
            "23/23 [==============================] - 0s 5ms/step - loss: 0.4289 - accuracy: 0.7720 - val_loss: 0.4084 - val_accuracy: 0.8045\n",
            "\n",
            "Epoch 00048: val_accuracy did not improve from 0.80447\n",
            "Epoch 49/500\n",
            "23/23 [==============================] - 0s 4ms/step - loss: 0.4475 - accuracy: 0.7660 - val_loss: 0.4089 - val_accuracy: 0.8045\n",
            "\n",
            "Epoch 00049: val_accuracy did not improve from 0.80447\n",
            "Epoch 50/500\n",
            "23/23 [==============================] - 0s 5ms/step - loss: 0.4589 - accuracy: 0.7870 - val_loss: 0.4080 - val_accuracy: 0.7933\n",
            "\n",
            "Epoch 00050: val_accuracy did not improve from 0.80447\n",
            "Epoch 51/500\n",
            "23/23 [==============================] - 0s 5ms/step - loss: 0.4269 - accuracy: 0.8126 - val_loss: 0.4076 - val_accuracy: 0.8045\n",
            "\n",
            "Epoch 00051: val_accuracy did not improve from 0.80447\n",
            "Epoch 52/500\n",
            "23/23 [==============================] - 0s 5ms/step - loss: 0.4456 - accuracy: 0.7902 - val_loss: 0.4062 - val_accuracy: 0.7989\n",
            "\n",
            "Epoch 00052: val_accuracy did not improve from 0.80447\n",
            "Epoch 53/500\n",
            "23/23 [==============================] - 0s 5ms/step - loss: 0.4762 - accuracy: 0.7592 - val_loss: 0.4072 - val_accuracy: 0.8045\n",
            "\n",
            "Epoch 00053: val_accuracy did not improve from 0.80447\n",
            "Epoch 54/500\n",
            "23/23 [==============================] - 0s 5ms/step - loss: 0.4352 - accuracy: 0.7879 - val_loss: 0.4067 - val_accuracy: 0.7933\n",
            "\n",
            "Epoch 00054: val_accuracy did not improve from 0.80447\n",
            "Epoch 55/500\n",
            "23/23 [==============================] - 0s 4ms/step - loss: 0.4586 - accuracy: 0.7907 - val_loss: 0.4072 - val_accuracy: 0.7989\n",
            "\n",
            "Epoch 00055: val_accuracy did not improve from 0.80447\n",
            "Epoch 56/500\n",
            "23/23 [==============================] - 0s 5ms/step - loss: 0.4109 - accuracy: 0.8043 - val_loss: 0.4062 - val_accuracy: 0.7933\n",
            "\n",
            "Epoch 00056: val_accuracy did not improve from 0.80447\n",
            "Epoch 57/500\n",
            "23/23 [==============================] - 0s 4ms/step - loss: 0.4468 - accuracy: 0.7856 - val_loss: 0.4067 - val_accuracy: 0.7933\n",
            "\n",
            "Epoch 00057: val_accuracy did not improve from 0.80447\n",
            "Epoch 58/500\n",
            "23/23 [==============================] - 0s 5ms/step - loss: 0.4226 - accuracy: 0.7860 - val_loss: 0.4058 - val_accuracy: 0.7933\n",
            "\n",
            "Epoch 00058: val_accuracy did not improve from 0.80447\n",
            "Epoch 59/500\n",
            "23/23 [==============================] - 0s 4ms/step - loss: 0.4584 - accuracy: 0.7839 - val_loss: 0.4070 - val_accuracy: 0.7933\n",
            "\n",
            "Epoch 00059: val_accuracy did not improve from 0.80447\n",
            "Epoch 60/500\n",
            "23/23 [==============================] - 0s 5ms/step - loss: 0.4495 - accuracy: 0.7817 - val_loss: 0.4063 - val_accuracy: 0.7933\n",
            "\n",
            "Epoch 00060: val_accuracy did not improve from 0.80447\n",
            "Epoch 61/500\n",
            "23/23 [==============================] - 0s 5ms/step - loss: 0.4304 - accuracy: 0.8107 - val_loss: 0.4068 - val_accuracy: 0.7877\n",
            "\n",
            "Epoch 00061: val_accuracy did not improve from 0.80447\n",
            "Epoch 62/500\n",
            "23/23 [==============================] - 0s 5ms/step - loss: 0.4675 - accuracy: 0.7870 - val_loss: 0.4071 - val_accuracy: 0.7877\n",
            "\n",
            "Epoch 00062: val_accuracy did not improve from 0.80447\n",
            "Epoch 63/500\n",
            "23/23 [==============================] - 0s 5ms/step - loss: 0.4373 - accuracy: 0.8134 - val_loss: 0.4066 - val_accuracy: 0.7877\n",
            "Restoring model weights from the end of the best epoch.\n",
            "\n",
            "Epoch 00063: val_accuracy did not improve from 0.80447\n",
            "Epoch 00063: early stopping\n"
          ],
          "name": "stdout"
        }
      ]
    },
    {
      "cell_type": "code",
      "metadata": {
        "colab": {
          "base_uri": "https://localhost:8080/"
        },
        "id": "iHIP4yRcPzyB",
        "outputId": "5ace7fb5-e764-46fc-d088-a7fefe26dd95"
      },
      "source": [
        "print (\"score validation set:\")\n",
        "validation_loss, validation_acc = model_nn.evaluate(X_test,  y_test)\n",
        "print (\"score training set:\")\n",
        "train_loss, train_acc = model_nn.evaluate(X_train,  y_train)"
      ],
      "execution_count": null,
      "outputs": [
        {
          "output_type": "stream",
          "text": [
            "score validation set:\n",
            "6/6 [==============================] - 0s 3ms/step - loss: 0.4058 - accuracy: 0.7933\n",
            "score training set:\n",
            "23/23 [==============================] - 0s 3ms/step - loss: 0.4396 - accuracy: 0.7865\n"
          ],
          "name": "stdout"
        }
      ]
    },
    {
      "cell_type": "code",
      "metadata": {
        "colab": {
          "base_uri": "https://localhost:8080/",
          "height": 387
        },
        "id": "W-eZalHbRi9P",
        "outputId": "8abd427a-a88a-40a4-91c7-4ac252ed827d"
      },
      "source": [
        "plt.figure(figsize=(10,6))\n",
        "plt.plot(H.history[\"loss\"], 'blue', label=\"train_loss\")\n",
        "plt.plot(H.history[\"val_loss\"], 'orange',label=\"val_loss\")\n",
        "plt.plot(H.history[\"accuracy\"], 'green', label=\"train_acc\")\n",
        "plt.plot(H.history[\"val_accuracy\"], 'red',label=\"val_acc\")\n",
        "plt.title('Train/Validation Loss-Accuracy', pad=-50)\n",
        "plt.legend(bbox_to_anchor = (1, 0.6))\n",
        "plt.grid(True)\n",
        "plt.show()"
      ],
      "execution_count": null,
      "outputs": [
        {
          "output_type": "display_data",
          "data": {
            "image/png": "[encoded data removed]",
            "text/plain": [
              "<Figure size 720x432 with 1 Axes>"
            ]
          },
          "metadata": {
            "tags": [],
            "needs_background": "light"
          }
        }
      ]
    },
    {
      "cell_type": "code",
      "metadata": {
        "colab": {
          "base_uri": "https://localhost:8080/"
        },
        "id": "m9COrIqxUR1k",
        "outputId": "fa91b08d-2d6b-40dc-d675-6b6266d29b4c"
      },
      "source": [
        "model_nn = load_model(\"/content/model_nn.h5\")\n",
        "\n",
        "y_pred_test = model_nn.predict_classes(test)"
      ],
      "execution_count": null,
      "outputs": [
        {
          "output_type": "stream",
          "text": [
            "/usr/local/lib/python3.7/dist-packages/keras/engine/sequential.py:450: UserWarning: `model.predict_classes()` is deprecated and will be removed after 2021-01-01. Please use instead:* `np.argmax(model.predict(x), axis=-1)`,   if your model does multi-class classification   (e.g. if it uses a `softmax` last-layer activation).* `(model.predict(x) > 0.5).astype(\"int32\")`,   if your model does binary classification   (e.g. if it uses a `sigmoid` last-layer activation).\n",
            "  warnings.warn('`model.predict_classes()` is deprecated and '\n"
          ],
          "name": "stderr"
        }
      ]
    },
    {
      "cell_type": "code",
      "metadata": {
        "colab": {
          "base_uri": "https://localhost:8080/"
        },
        "id": "ol4B-VVrVoY5",
        "outputId": "89560c46-9bde-4b89-e519-0d41f9a28c50"
      },
      "source": [
        "test_pred = []\n",
        "for i in y_pred_test:\n",
        "  test_pred.append(i[0])\n",
        "\n",
        "print (len(test_pred))"
      ],
      "execution_count": null,
      "outputs": [
        {
          "output_type": "stream",
          "text": [
            "418\n"
          ],
          "name": "stdout"
        }
      ]
    },
    {
      "cell_type": "code",
      "metadata": {
        "colab": {
          "base_uri": "https://localhost:8080/",
          "height": 419
        },
        "id": "zDP4hUoaUtyX",
        "outputId": "cf82213c-0717-4732-8b13-f409dda88213"
      },
      "source": [
        "\n",
        "gender_submission_nn = pd.DataFrame({'PassengerId': df_test['PassengerId'],\n",
        "                                  'Survived': test_pred})\n",
        "\n",
        "gender_submission_nn"
      ],
      "execution_count": null,
      "outputs": [
        {
          "output_type": "execute_result",
          "data": {
            "text/html": [
              "<div>\n",
              "<style scoped>\n",
              "    .dataframe tbody tr th:only-of-type {\n",
              "        vertical-align: middle;\n",
              "    }\n",
              "\n",
              "    .dataframe tbody tr th {\n",
              "        vertical-align: top;\n",
              "    }\n",
              "\n",
              "    .dataframe thead th {\n",
              "        text-align: right;\n",
              "    }\n",
              "</style>\n",
              "<table border=\"1\" class=\"dataframe\">\n",
              "  <thead>\n",
              "    <tr style=\"text-align: right;\">\n",
              "      <th></th>\n",
              "      <th>PassengerId</th>\n",
              "      <th>Survived</th>\n",
              "    </tr>\n",
              "  </thead>\n",
              "  <tbody>\n",
              "    <tr>\n",
              "      <th>0</th>\n",
              "      <td>892</td>\n",
              "      <td>0</td>\n",
              "    </tr>\n",
              "    <tr>\n",
              "      <th>1</th>\n",
              "      <td>893</td>\n",
              "      <td>0</td>\n",
              "    </tr>\n",
              "    <tr>\n",
              "      <th>2</th>\n",
              "      <td>894</td>\n",
              "      <td>0</td>\n",
              "    </tr>\n",
              "    <tr>\n",
              "      <th>3</th>\n",
              "      <td>895</td>\n",
              "      <td>0</td>\n",
              "    </tr>\n",
              "    <tr>\n",
              "      <th>4</th>\n",
              "      <td>896</td>\n",
              "      <td>1</td>\n",
              "    </tr>\n",
              "    <tr>\n",
              "      <th>...</th>\n",
              "      <td>...</td>\n",
              "      <td>...</td>\n",
              "    </tr>\n",
              "    <tr>\n",
              "      <th>413</th>\n",
              "      <td>1305</td>\n",
              "      <td>0</td>\n",
              "    </tr>\n",
              "    <tr>\n",
              "      <th>414</th>\n",
              "      <td>1306</td>\n",
              "      <td>1</td>\n",
              "    </tr>\n",
              "    <tr>\n",
              "      <th>415</th>\n",
              "      <td>1307</td>\n",
              "      <td>0</td>\n",
              "    </tr>\n",
              "    <tr>\n",
              "      <th>416</th>\n",
              "      <td>1308</td>\n",
              "      <td>0</td>\n",
              "    </tr>\n",
              "    <tr>\n",
              "      <th>417</th>\n",
              "      <td>1309</td>\n",
              "      <td>0</td>\n",
              "    </tr>\n",
              "  </tbody>\n",
              "</table>\n",
              "<p>418 rows × 2 columns</p>\n",
              "</div>"
            ],
            "text/plain": [
              "     PassengerId  Survived\n",
              "0            892         0\n",
              "1            893         0\n",
              "2            894         0\n",
              "3            895         0\n",
              "4            896         1\n",
              "..           ...       ...\n",
              "413         1305         0\n",
              "414         1306         1\n",
              "415         1307         0\n",
              "416         1308         0\n",
              "417         1309         0\n",
              "\n",
              "[418 rows x 2 columns]"
            ]
          },
          "metadata": {
            "tags": []
          },
          "execution_count": 107
        }
      ]
    },
    {
      "cell_type": "code",
      "metadata": {
        "id": "YJ80NyW0ZMT7"
      },
      "source": [
        "gender_submission_nn.to_csv('/content/gdrive/MyDrive/Colab Notebooks/Kaggle Competitions/Titanic-ML-from-Disaster/gender_submission_nn.csv', index=False)\n",
        "gender_submission_nn.to_csv('/content/gender_submission_nn.csv', index=False)"
      ],
      "execution_count": null,
      "outputs": []
    }
  ]
}